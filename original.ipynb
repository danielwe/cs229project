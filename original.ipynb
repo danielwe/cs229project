{
 "cells": [
  {
   "cell_type": "markdown",
   "metadata": {},
   "source": [
    "# Learning to move a human arm\n",
    "\n",
    "This notebook is based on the tutorial from https://github.com/stanfordnmbl/osim-rl."
   ]
  },
  {
   "cell_type": "code",
   "execution_count": 1,
   "metadata": {
    "ExecuteTime": {
     "end_time": "2017-12-16T00:07:38.718810Z",
     "start_time": "2017-12-16T00:07:38.713443Z"
    },
    "collapsed": true
   },
   "outputs": [],
   "source": [
    "# Set filenames for saved data from this experiment\n",
    "file_prefix = 'original'"
   ]
  },
  {
   "cell_type": "code",
   "execution_count": 2,
   "metadata": {
    "ExecuteTime": {
     "end_time": "2017-12-16T00:07:40.020101Z",
     "start_time": "2017-12-16T00:07:38.723540Z"
    }
   },
   "outputs": [
    {
     "name": "stderr",
     "output_type": "stream",
     "text": [
      "Using TensorFlow backend.\n"
     ]
    }
   ],
   "source": [
    "%matplotlib inline\n",
    "\n",
    "from environments import MyArmEnv\n",
    "\n",
    "from keras.models import Sequential, Model\n",
    "from keras.layers import Dense, Activation, Flatten, Input, concatenate\n",
    "from keras.optimizers import Adam\n",
    "\n",
    "from rl.agents import DDPGAgent\n",
    "from rl.memory import SequentialMemory\n",
    "from rl.random import OrnsteinUhlenbeckProcess\n",
    "\n",
    "import pickle\n",
    "\n",
    "def pickledump(obj, fname):\n",
    "    with open(fname, 'wb') as f:\n",
    "        return pickle.dump(obj, f)"
   ]
  },
  {
   "cell_type": "code",
   "execution_count": 3,
   "metadata": {
    "ExecuteTime": {
     "end_time": "2017-12-16T00:07:40.055747Z",
     "start_time": "2017-12-16T00:07:40.023724Z"
    }
   },
   "outputs": [],
   "source": [
    "%load_ext autoreload\n",
    "%autoreload 2"
   ]
  },
  {
   "cell_type": "code",
   "execution_count": 4,
   "metadata": {
    "ExecuteTime": {
     "end_time": "2017-12-16T00:07:40.273444Z",
     "start_time": "2017-12-16T00:07:40.060935Z"
    }
   },
   "outputs": [],
   "source": [
    "from loggers import RewardsLogger, ObservationsLogger\n",
    "from plots import (plot_observations,\n",
    "                   plot_reward_history,\n",
    "                   plot_reward_statistics)"
   ]
  },
  {
   "cell_type": "code",
   "execution_count": 5,
   "metadata": {
    "ExecuteTime": {
     "end_time": "2017-12-16T00:07:40.360686Z",
     "start_time": "2017-12-16T00:07:40.276911Z"
    },
    "collapsed": true
   },
   "outputs": [],
   "source": [
    "env = MyArmEnv(visualize=False)\n",
    "input_shape = (1, ) + env.observation_space.shape\n",
    "nb_actions = env.action_space.shape[0]"
   ]
  },
  {
   "cell_type": "markdown",
   "metadata": {},
   "source": [
    "## Creating the actor and the critic\n",
    "\n",
    "The actor serves as a brain for controlling muscles. The critic is our approximation of how good is the brain performing for achieving the goal"
   ]
  },
  {
   "cell_type": "code",
   "execution_count": 6,
   "metadata": {
    "ExecuteTime": {
     "end_time": "2017-12-16T00:07:40.463379Z",
     "start_time": "2017-12-16T00:07:40.365056Z"
    }
   },
   "outputs": [
    {
     "name": "stdout",
     "output_type": "stream",
     "text": [
      "_________________________________________________________________\n",
      "Layer (type)                 Output Shape              Param #   \n",
      "=================================================================\n",
      "flatten_1 (Flatten)          (None, 14)                0         \n",
      "_________________________________________________________________\n",
      "dense_1 (Dense)              (None, 32)                480       \n",
      "_________________________________________________________________\n",
      "activation_1 (Activation)    (None, 32)                0         \n",
      "_________________________________________________________________\n",
      "dense_2 (Dense)              (None, 32)                1056      \n",
      "_________________________________________________________________\n",
      "activation_2 (Activation)    (None, 32)                0         \n",
      "_________________________________________________________________\n",
      "dense_3 (Dense)              (None, 32)                1056      \n",
      "_________________________________________________________________\n",
      "activation_3 (Activation)    (None, 32)                0         \n",
      "_________________________________________________________________\n",
      "dense_4 (Dense)              (None, 6)                 198       \n",
      "_________________________________________________________________\n",
      "activation_4 (Activation)    (None, 6)                 0         \n",
      "=================================================================\n",
      "Total params: 2,790\n",
      "Trainable params: 2,790\n",
      "Non-trainable params: 0\n",
      "_________________________________________________________________\n",
      "None\n"
     ]
    }
   ],
   "source": [
    "# Create actor and critic networks\n",
    "actor = Sequential()\n",
    "actor.add(Flatten(input_shape=input_shape))\n",
    "actor.add(Dense(32))\n",
    "actor.add(Activation('relu'))\n",
    "actor.add(Dense(32))\n",
    "actor.add(Activation('relu'))\n",
    "actor.add(Dense(32))\n",
    "actor.add(Activation('relu'))\n",
    "actor.add(Dense(nb_actions))\n",
    "actor.add(Activation('sigmoid'))\n",
    "print(actor.summary())"
   ]
  },
  {
   "cell_type": "code",
   "execution_count": 7,
   "metadata": {
    "ExecuteTime": {
     "end_time": "2017-12-16T00:07:40.581101Z",
     "start_time": "2017-12-16T00:07:40.466893Z"
    }
   },
   "outputs": [
    {
     "name": "stdout",
     "output_type": "stream",
     "text": [
      "__________________________________________________________________________________________________\n",
      "Layer (type)                    Output Shape         Param #     Connected to                     \n",
      "==================================================================================================\n",
      "observation_input (InputLayer)  (None, 1, 14)        0                                            \n",
      "__________________________________________________________________________________________________\n",
      "action_input (InputLayer)       (None, 6)            0                                            \n",
      "__________________________________________________________________________________________________\n",
      "flatten_2 (Flatten)             (None, 14)           0           observation_input[0][0]          \n",
      "__________________________________________________________________________________________________\n",
      "concatenate_1 (Concatenate)     (None, 20)           0           action_input[0][0]               \n",
      "                                                                 flatten_2[0][0]                  \n",
      "__________________________________________________________________________________________________\n",
      "dense_5 (Dense)                 (None, 64)           1344        concatenate_1[0][0]              \n",
      "__________________________________________________________________________________________________\n",
      "activation_5 (Activation)       (None, 64)           0           dense_5[0][0]                    \n",
      "__________________________________________________________________________________________________\n",
      "dense_6 (Dense)                 (None, 64)           4160        activation_5[0][0]               \n",
      "__________________________________________________________________________________________________\n",
      "activation_6 (Activation)       (None, 64)           0           dense_6[0][0]                    \n",
      "__________________________________________________________________________________________________\n",
      "dense_7 (Dense)                 (None, 64)           4160        activation_6[0][0]               \n",
      "__________________________________________________________________________________________________\n",
      "activation_7 (Activation)       (None, 64)           0           dense_7[0][0]                    \n",
      "__________________________________________________________________________________________________\n",
      "dense_8 (Dense)                 (None, 1)            65          activation_7[0][0]               \n",
      "__________________________________________________________________________________________________\n",
      "activation_8 (Activation)       (None, 1)            0           dense_8[0][0]                    \n",
      "==================================================================================================\n",
      "Total params: 9,729\n",
      "Trainable params: 9,729\n",
      "Non-trainable params: 0\n",
      "__________________________________________________________________________________________________\n",
      "None\n"
     ]
    }
   ],
   "source": [
    "action_input = Input(shape=(nb_actions,), name='action_input')\n",
    "observation_input = Input(shape=input_shape, name='observation_input')\n",
    "flattened_observation = Flatten()(observation_input)\n",
    "x = concatenate([action_input, flattened_observation])\n",
    "x = Dense(64)(x)\n",
    "x = Activation('relu')(x)\n",
    "x = Dense(64)(x)\n",
    "x = Activation('relu')(x)\n",
    "x = Dense(64)(x)\n",
    "x = Activation('relu')(x)\n",
    "x = Dense(1)(x)\n",
    "x = Activation('linear')(x)\n",
    "critic = Model(inputs=[action_input, observation_input], outputs=x)\n",
    "print(critic.summary())"
   ]
  },
  {
   "cell_type": "markdown",
   "metadata": {},
   "source": [
    "## Train the actor and the critic\n",
    "\n",
    "Train both networks with the DDPG algorithm as implemented in `keras-rl`."
   ]
  },
  {
   "cell_type": "code",
   "execution_count": 8,
   "metadata": {
    "ExecuteTime": {
     "end_time": "2017-12-16T00:07:41.371365Z",
     "start_time": "2017-12-16T00:07:40.584765Z"
    },
    "collapsed": true
   },
   "outputs": [],
   "source": [
    "# Set up the agent for training\n",
    "memory = SequentialMemory(limit=100000, window_length=1)\n",
    "random_process = OrnsteinUhlenbeckProcess(\n",
    "    theta=.15, mu=0., sigma=.2, dt=env.stepsize, size=env.noutput)\n",
    "agent = DDPGAgent(\n",
    "    nb_actions=nb_actions,\n",
    "    actor=actor,\n",
    "    critic=critic,\n",
    "    critic_action_input=action_input,\n",
    "    memory=memory,\n",
    "    nb_steps_warmup_critic=100,\n",
    "    nb_steps_warmup_actor=100,\n",
    "    random_process=random_process,\n",
    "    gamma=.99,\n",
    "    target_model_update=1e-3,\n",
    "    delta_clip=1.,\n",
    ")\n",
    "agent.compile(Adam(lr=.001, clipnorm=1.), metrics=['mae'])"
   ]
  },
  {
   "cell_type": "code",
   "execution_count": 9,
   "metadata": {
    "ExecuteTime": {
     "end_time": "2017-12-16T00:39:53.072740Z",
     "start_time": "2017-12-16T00:07:41.374511Z"
    }
   },
   "outputs": [
    {
     "name": "stdout",
     "output_type": "stream",
     "text": [
      "Training for 100000 steps ...\n",
      "Interval 1 (0 steps performed)\n",
      "10000/10000 [==============================] - 362s 36ms/step - reward: -1.1222\n",
      "50 episodes - episode_reward: -224.439 [-675.000, -89.139] - loss: 0.099 - mean_absolute_error: 0.232 - mean_q: -5.193\n",
      "\n",
      "Interval 2 (10000 steps performed)\n",
      "10000/10000 [==============================] - 186s 19ms/step - reward: -0.5220\n",
      "50 episodes - episode_reward: -104.401 [-276.627, -39.135] - loss: 0.194 - mean_absolute_error: 0.375 - mean_q: -9.474\n",
      "\n",
      "Interval 3 (20000 steps performed)\n",
      "10000/10000 [==============================] - 206s 21ms/step - reward: -0.4008\n",
      "50 episodes - episode_reward: -80.166 [-217.052, -33.953] - loss: 0.207 - mean_absolute_error: 0.404 - mean_q: -10.760\n",
      "\n",
      "Interval 4 (30000 steps performed)\n",
      "10000/10000 [==============================] - 172s 17ms/step - reward: -0.4041\n",
      "50 episodes - episode_reward: -80.829 [-149.682, -30.537] - loss: 0.225 - mean_absolute_error: 0.424 - mean_q: -11.369\n",
      "\n",
      "Interval 5 (40000 steps performed)\n",
      "10000/10000 [==============================] - 181s 18ms/step - reward: -0.3995\n",
      "50 episodes - episode_reward: -79.893 [-132.708, -46.927] - loss: 0.228 - mean_absolute_error: 0.425 - mean_q: -11.517\n",
      "\n",
      "Interval 6 (50000 steps performed)\n",
      "10000/10000 [==============================] - 172s 17ms/step - reward: -0.3750\n",
      "50 episodes - episode_reward: -75.008 [-147.950, -36.034] - loss: 0.235 - mean_absolute_error: 0.425 - mean_q: -11.805\n",
      "\n",
      "Interval 7 (60000 steps performed)\n",
      "10000/10000 [==============================] - 158s 16ms/step - reward: -0.3472\n",
      "50 episodes - episode_reward: -69.448 [-118.578, -35.108] - loss: 0.238 - mean_absolute_error: 0.424 - mean_q: -12.096\n",
      "\n",
      "Interval 8 (70000 steps performed)\n",
      "10000/10000 [==============================] - 157s 16ms/step - reward: -0.3477\n",
      "50 episodes - episode_reward: -69.544 [-136.969, -32.530] - loss: 0.245 - mean_absolute_error: 0.429 - mean_q: -12.351\n",
      "\n",
      "Interval 9 (80000 steps performed)\n",
      "10000/10000 [==============================] - 157s 16ms/step - reward: -0.3454\n",
      "50 episodes - episode_reward: -69.073 [-130.153, -29.934] - loss: 0.250 - mean_absolute_error: 0.434 - mean_q: -12.748\n",
      "\n",
      "Interval 10 (90000 steps performed)\n",
      "10000/10000 [==============================] - 179s 18ms/step - reward: -0.3079\n",
      "done, took 1929.733 seconds\n"
     ]
    }
   ],
   "source": [
    "# Train the model\n",
    "training_history = RewardsLogger()\n",
    "env.reset()\n",
    "agent.fit(\n",
    "    env,\n",
    "    nb_steps=100000,\n",
    "    visualize=False,\n",
    "    verbose=1,\n",
    "    nb_max_episode_steps=200,\n",
    "    log_interval=10000,\n",
    "    callbacks=[training_history],\n",
    ")\n",
    "\n",
    "# Save weights and training history\n",
    "agent.save_weights(file_prefix + '_weights.h5f', overwrite=True)\n",
    "pickledump(training_history, file_prefix + '_training_history.pkl')"
   ]
  },
  {
   "cell_type": "code",
   "execution_count": 15,
   "metadata": {
    "ExecuteTime": {
     "end_time": "2017-12-16T00:42:37.414243Z",
     "start_time": "2017-12-16T00:42:36.865298Z"
    }
   },
   "outputs": [
    {
     "data": {
      "image/png": "[encoded data removed]",
      "text/plain": [
       "<matplotlib.figure.Figure at 0x7f6e659d8410>"
      ]
     },
     "metadata": {},
     "output_type": "display_data"
    }
   ],
   "source": [
    "# Plot training reward history\n",
    "axes = plot_reward_history(training_history)\n",
    "axes.figure.savefig(file_prefix + '_training_rewards.pdf')"
   ]
  },
  {
   "cell_type": "markdown",
   "metadata": {},
   "source": [
    "## Evaluate the results\n",
    "Check how our trained 'brain' performs. We log the full state at each timestep to facilitate all the analysis and visualization we desire."
   ]
  },
  {
   "cell_type": "code",
   "execution_count": 16,
   "metadata": {
    "ExecuteTime": {
     "end_time": "2017-12-16T00:45:38.970412Z",
     "start_time": "2017-12-16T00:45:38.947328Z"
    },
    "collapsed": true
   },
   "outputs": [],
   "source": [
    "# Set test parameters\n",
    "test_nb_episodes = 10\n",
    "test_nb_max_episode_steps = 1000"
   ]
  },
  {
   "cell_type": "code",
   "execution_count": 17,
   "metadata": {
    "ExecuteTime": {
     "end_time": "2017-12-16T00:47:33.506715Z",
     "start_time": "2017-12-16T00:45:39.669865Z"
    }
   },
   "outputs": [
    {
     "name": "stdout",
     "output_type": "stream",
     "text": [
      "Testing for 10 episodes ...\n",
      "Episode 1: reward: -339.360, steps: 1000\n",
      "Episode 2: reward: -287.217, steps: 1000\n",
      "Episode 3: reward: -289.598, steps: 1000\n",
      "Episode 4: reward: -305.592, steps: 1000\n",
      "Episode 5: reward: -227.780, steps: 1000\n",
      "Episode 6: reward: -334.399, steps: 1000\n",
      "Episode 7: reward: -267.762, steps: 1000\n",
      "Episode 8: reward: -305.861, steps: 1000\n",
      "Episode 9: reward: -248.424, steps: 1000\n",
      "Episode 10: reward: -307.630, steps: 1000\n"
     ]
    }
   ],
   "source": [
    "# Run test\n",
    "test_history = ObservationsLogger()\n",
    "env.reset()\n",
    "agent.test(\n",
    "    env,\n",
    "    nb_episodes=test_nb_episodes,\n",
    "    visualize=False,\n",
    "    nb_max_episode_steps=test_nb_max_episode_steps,\n",
    "    callbacks=[test_history],\n",
    ")\n",
    "# Save test history\n",
    "pickledump(test_history, file_prefix + '_test_history.pkl')"
   ]
  },
  {
   "cell_type": "code",
   "execution_count": 18,
   "metadata": {
    "ExecuteTime": {
     "end_time": "2017-12-16T00:55:36.370719Z",
     "start_time": "2017-12-16T00:55:35.987221Z"
    }
   },
   "outputs": [
    {
     "data": {
      "image/png": "[encoded data removed]",
      "text/plain": [
       "<matplotlib.figure.Figure at 0x7f6e64bfc890>"
      ]
     },
     "metadata": {},
     "output_type": "display_data"
    }
   ],
   "source": [
    "# Plot test observation history\n",
    "axes = plot_observations(test_history)\n",
    "axes[0].figure.savefig(file_prefix + '_test_observations.pdf')"
   ]
  },
  {
   "cell_type": "markdown",
   "metadata": {},
   "source": [
    "## Compare to pretrained model"
   ]
  },
  {
   "cell_type": "code",
   "execution_count": 19,
   "metadata": {
    "ExecuteTime": {
     "end_time": "2017-12-16T00:55:42.118614Z",
     "start_time": "2017-12-16T00:55:42.096187Z"
    },
    "collapsed": true
   },
   "outputs": [],
   "source": [
    "# Set filenames for saved data from this experiment\n",
    "file_prefix = 'pretrained'"
   ]
  },
  {
   "cell_type": "code",
   "execution_count": 20,
   "metadata": {
    "ExecuteTime": {
     "end_time": "2017-12-16T00:55:45.398578Z",
     "start_time": "2017-12-16T00:55:45.148440Z"
    },
    "collapsed": true
   },
   "outputs": [],
   "source": [
    "# Load pretrained weights\n",
    "agent.load_weights(\n",
    "    '/home/daniel/packages/osim-rl/models/example.h5f')"
   ]
  },
  {
   "cell_type": "code",
   "execution_count": 21,
   "metadata": {
    "ExecuteTime": {
     "end_time": "2017-12-16T00:57:50.017289Z",
     "start_time": "2017-12-16T00:55:48.506274Z"
    }
   },
   "outputs": [
    {
     "name": "stdout",
     "output_type": "stream",
     "text": [
      "Testing for 10 episodes ...\n",
      "Episode 1: reward: -266.236, steps: 1000\n",
      "Episode 2: reward: -234.027, steps: 1000\n",
      "Episode 3: reward: -325.160, steps: 1000\n",
      "Episode 4: reward: -256.489, steps: 1000\n",
      "Episode 5: reward: -217.464, steps: 1000\n",
      "Episode 6: reward: -291.176, steps: 1000\n",
      "Episode 7: reward: -259.713, steps: 1000\n",
      "Episode 8: reward: -347.262, steps: 1000\n",
      "Episode 9: reward: -251.045, steps: 1000\n",
      "Episode 10: reward: -239.760, steps: 1000\n"
     ]
    }
   ],
   "source": [
    "# Run test\n",
    "pretrained_test_history = ObservationsLogger()\n",
    "env.reset()\n",
    "agent.test(\n",
    "    env,\n",
    "    nb_episodes=test_nb_episodes,\n",
    "    visualize=False,\n",
    "    nb_max_episode_steps=test_nb_max_episode_steps,\n",
    "    callbacks=[pretrained_test_history],\n",
    ")\n",
    "# Save test history\n",
    "pickledump(pretrained_test_history, file_prefix + '_test_history.pkl')"
   ]
  },
  {
   "cell_type": "code",
   "execution_count": 22,
   "metadata": {
    "ExecuteTime": {
     "end_time": "2017-12-16T00:57:53.706812Z",
     "start_time": "2017-12-16T00:57:53.212733Z"
    }
   },
   "outputs": [
    {
     "data": {
      "image/png": "[encoded data removed]",
      "text/plain": [
       "<matplotlib.figure.Figure at 0x7f6e64bfc090>"
      ]
     },
     "metadata": {},
     "output_type": "display_data"
    }
   ],
   "source": [
    "# Plot test observation history\n",
    "axes = plot_observations(pretrained_test_history)\n",
    "axes[0].figure.savefig(file_prefix + '_test_observations.pdf')"
   ]
  },
  {
   "cell_type": "code",
   "execution_count": 30,
   "metadata": {
    "ExecuteTime": {
     "end_time": "2017-12-16T01:01:14.639953Z",
     "start_time": "2017-12-16T01:01:14.402470Z"
    }
   },
   "outputs": [
    {
     "data": {
      "image/png": "[encoded data removed]",
      "text/plain": [
       "<matplotlib.figure.Figure at 0x7f6e647d3bd0>"
      ]
     },
     "metadata": {},
     "output_type": "display_data"
    }
   ],
   "source": [
    "axes = plot_reward_statistics({\n",
    "    'pretrained': pretrained_test_history,\n",
    "    'trained': test_history,\n",
    "})\n",
    "axes.figure.savefig('pretrained_test_rewards.pdf')"
   ]
  },
  {
   "cell_type": "code",
   "execution_count": null,
   "metadata": {
    "collapsed": true
   },
   "outputs": [],
   "source": []
  }
 ],
 "metadata": {
  "kernelspec": {
   "display_name": "Python (opensim-rl)",
   "language": "python",
   "name": "opensim-rl"
  },
  "language_info": {
   "codemirror_mode": {
    "name": "ipython",
    "version": 2
   },
   "file_extension": ".py",
   "mimetype": "text/x-python",
   "name": "python",
   "nbconvert_exporter": "python",
   "pygments_lexer": "ipython2",
   "version": "2.7.14"
  },
  "varInspector": {
   "cols": {
    "lenName": 16,
    "lenType": 16,
    "lenVar": 40
   },
   "kernels_config": {
    "python": {
     "delete_cmd_postfix": "",
     "delete_cmd_prefix": "del ",
     "library": "var_list.py",
     "varRefreshCmd": "print(var_dic_list())"
    },
    "r": {
     "delete_cmd_postfix": ") ",
     "delete_cmd_prefix": "rm(",
     "library": "var_list.r",
     "varRefreshCmd": "cat(var_dic_list()) "
    }
   },
   "types_to_exclude": [
    "module",
    "function",
    "builtin_function_or_method",
    "instance",
    "_Feature"
   ],
   "window_display": false
  }
 },
 "nbformat": 4,
 "nbformat_minor": 2
}
